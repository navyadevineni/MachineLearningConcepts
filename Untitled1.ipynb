{
 "cells": [
  {
   "cell_type": "code",
   "execution_count": 11,
   "metadata": {},
   "outputs": [
    {
     "name": "stdout",
     "output_type": "stream",
     "text": [
      "The value of index(fam[value]) is: 1.3\n",
      "The value of index(fam[value]) is: 4.5\n",
      "The value of index(fam[value]) is: 5.6\n",
      "The value of index(fam[value]) is: 6.7\n",
      "The value of index(fam[value]) is: 7.8\n"
     ]
    }
   ],
   "source": [
    "fam=[1.3, 4.5, 5.6, 6.7, 7.8]\n",
    "for value in fam:\n",
    "    print(\"The value of is: \" + str(value))"
   ]
  },
  {
   "cell_type": "code",
   "execution_count": null,
   "metadata": {},
   "outputs": [],
   "source": []
  }
 ],
 "metadata": {
  "kernelspec": {
   "display_name": "Python 3",
   "language": "python",
   "name": "python3"
  },
  "language_info": {
   "codemirror_mode": {
    "name": "ipython",
    "version": 3
   },
   "file_extension": ".py",
   "mimetype": "text/x-python",
   "name": "python",
   "nbconvert_exporter": "python",
   "pygments_lexer": "ipython3",
   "version": "3.7.4"
  }
 },
 "nbformat": 4,
 "nbformat_minor": 2
}
