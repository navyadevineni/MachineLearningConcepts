{
 "cells": [
  {
   "cell_type": "markdown",
   "metadata": {},
   "source": [
    "# Python Basics"
   ]
  },
  {
   "cell_type": "markdown",
   "metadata": {},
   "source": [
    "## REPL your way through life\n",
    "\n",
    "If you have an expression, it will be evaluated and the result will be printed.  Unfortunately, this does not happen in the notebook unless it is the last thing that executed in the cell, so we always will print what we want to see."
   ]
  },
  {
   "cell_type": "code",
   "execution_count": null,
   "metadata": {},
   "outputs": [],
   "source": [
    "beatle_juice = \"She loves me, yeah, yeah, yeah\"\n",
    "beatle_juice\n",
    "beatle_juice\n",
    "beatle_juice"
   ]
  },
  {
   "cell_type": "markdown",
   "metadata": {},
   "source": [
    "## Primitive Data"
   ]
  },
  {
   "cell_type": "markdown",
   "metadata": {},
   "source": [
    "### Integers\n",
    "\n",
    "Python has the ability to work with integers.  Unlike the integers you may be used to in a Language like Java, Python's integers are arbitray presicion.  \n",
    "_Good News:_ You do not have to worry about whether arithmetic operations will overflow!!\n",
    "_Bad News:_  You need to worry about the time that arithmetic operations take and whether you might run out of memory.\n",
    "\n"
   ]
  },
  {
   "cell_type": "code",
   "execution_count": null,
   "metadata": {
    "scrolled": false
   },
   "outputs": [],
   "source": [
    "# The largest value that can be represented using a long in Java (64 bits)\n",
    "an_integer = 9223372036854775807\n",
    "print(an_integer)\n",
    "\n",
    "# Something bigger (about 38 digits)\n",
    "an_integer *= an_integer\n",
    "print(an_integer)\n",
    "\n",
    "# Use exponentiation to get an even larger value (abount 7600 digits)\n",
    "an_integer = an_integer**200\n",
    "print(an_integer)"
   ]
  },
  {
   "cell_type": "markdown",
   "metadata": {},
   "source": [
    "### Floating point and Division\n",
    "Most python platforms will map floating point to IEEE 754 double precision.  The main thing to watch out for is that there are two division operators.\n",
    "\n",
    "*The operator / does a floating point division\n",
    "*The operator // does an integer division and discards any remainder\n",
    "\n",
    "The rest of the operations +, -, * , %, ** are pretty standard\n"
   ]
  },
  {
   "cell_type": "code",
   "execution_count": 3,
   "metadata": {},
   "outputs": [
    {
     "name": "stdout",
     "output_type": "stream",
     "text": [
      "0.3333333333333333\n",
      "0\n",
      "1.5705\n",
      "1.0\n",
      "27\n",
      "1.7722866585290316\n"
     ]
    }
   ],
   "source": [
    "a=1\n",
    "b = 3\n",
    "print(a/b)\n",
    "print(a//b)\n",
    "\n",
    "c = 3.141\n",
    "d = 2.0\n",
    "print(c/d)\n",
    "print(c//d)\n",
    "\n",
    "# Compute b cubed\n",
    "print(b**3)\n",
    "\n",
    "# Take the square root of a number\n",
    "print(c**(1/2))\n"
   ]
  },
  {
   "cell_type": "markdown",
   "metadata": {},
   "source": [
    "### Strings\n",
    "\n",
    "Strings in python can be delimited by single or double quotes.  Python does not have a seperate character type... It is just a string of length one.\n",
    "\n",
    "If you have a value, you can turn it into a string by using the str() method\n",
    "\n",
    " "
   ]
  },
  {
   "cell_type": "code",
   "execution_count": 1,
   "metadata": {},
   "outputs": [
    {
     "name": "stdout",
     "output_type": "stream",
     "text": [
      "1234567\n",
      "666\n",
      "1234567666\n"
     ]
    }
   ],
   "source": [
    "#Take an integer literal and turn it into a string\n",
    "not_a_number = str(1234567)\n",
    "print(not_a_number) \n",
    "\n",
    "#Take a string literal and turn it into a string\n",
    "#This is kind of a waste since we already had it as a string.\n",
    "also_not_a_number = str('666')\n",
    "print(also_not_a_number)\n",
    "\n",
    "#Use + to concatenate the two strings\n",
    "print(not_a_number + also_not_a_number)"
   ]
  },
  {
   "cell_type": "markdown",
   "metadata": {},
   "source": [
    "### String operations\n",
    "This is just the briefest of introductions to string processing.  Eventually, we will look at how to interact with a string as sequence, but for now we will just talk about concatenation, search, and split.\n",
    "\n",
    "* Use the plus operator to concatenat two strings together\n",
    "* Use the split operator to break up the string into a list (More about lists later!)\n",
    "* Use the find operator to determine if one string is a substring of another string.  It returns the index of the first location or -1 if not there."
   ]
  },
  {
   "cell_type": "code",
   "execution_count": null,
   "metadata": {},
   "outputs": [],
   "source": [
    "# Use single or double quotes\n",
    "string1 = \"A string that we can work with, Stanley.\"\n",
    "string2 = 'Hello George'\n",
    "\n",
    "# Concatenate the strings, note that we don't get a space!\n",
    "print(string1 + string2)\n",
    "\n",
    "# Split the string into a list of space delimited strings\n",
    "print(string1.split())\n",
    "\n",
    "# Let me know if an is a substring\n",
    "print(string1.find(\"an\"))\n",
    "print(string2.find(\"an\"))"
   ]
  },
  {
   "cell_type": "markdown",
   "metadata": {},
   "source": [
    "## Variables\n",
    "Variables in python are easy to create, you just assign them a value and they appear.  Types... Whatever the data is.  Python is not strongly typed.  This will cause loss of hair later.  Enjoy.\n",
    "\n",
    "print() is the way to get some output.  We can give print as many arguments as we want and they will each be evaluated and printed with a space in between.\n",
    "\n",
    "### Naming Conventions\n",
    "Use\n",
    "* lower_case with underscores for variable and function names\n",
    "* CamelCase for ClassNames\n",
    "* leading _ for private var/fn\n",
    "* all uppercase for constants, but its not enforced"
   ]
  },
  {
   "cell_type": "code",
   "execution_count": 4,
   "metadata": {},
   "outputs": [
    {
     "name": "stdout",
     "output_type": "stream",
     "text": [
      "1\n",
      "this is a string 2.0\n",
      "1 this is a string 2.0 5.0\n"
     ]
    }
   ],
   "source": [
    "a_is_an_integer = 10\n",
    "b = \"this is a string\"\n",
    "c = 'this is also a string'\n",
    "\n",
    "# c is no longer a string\n",
    "c = 2.0\n",
    "\n",
    "print(a)\n",
    "print(b, c)\n",
    "print(a, b, c, a + 2*c)\n"
   ]
  },
  {
   "cell_type": "markdown",
   "metadata": {},
   "source": [
    "## Selection\n",
    "The if statement is your friend. You will use it often. Unlike languages in the C tradition, we don't use braces to mark code blocks, Python uses a colon and indentation.  It is hard and fast.  If your indentation is wrong, your code is wrong. There is no fancy button that fixes your indentation, sorry.\n",
    "\n",
    "Python does not have a case construct. There is a really cool way to emulate a case statement using dictionaries that we will show you later.  For now, you can use the else if construct.  \n",
    "\n",
    "if\n",
    "elif\n",
    "elif\n",
    "else\n",
    "\n",
    "\n"
   ]
  },
  {
   "cell_type": "code",
   "execution_count": null,
   "metadata": {
    "scrolled": true
   },
   "outputs": [],
   "source": [
    "# A basic if statement. Notice the colon and the indentation\n",
    "if a > 10 :\n",
    "    print(\"a is greater than 10\")\n",
    "    a = a - 10\n",
    "print(\"Not part of the if block\")\n",
    "\n",
    "# If-Else... the else needs a color too\n",
    "if a > 5 :\n",
    "    print(\"a is greater than 5\")\n",
    "    c += 3\n",
    "else :\n",
    "    print(\"a is not greater than 5\")\n",
    "    c += 6\n",
    "c += 10\n",
    "print(\"c has the value\", c)\n",
    "\n",
    "# And the Elif with nested ifs\n",
    "\n",
    "digit = 5\n",
    "if digit == 0 :\n",
    "    print(\"digit is zero\")\n",
    "elif digit > 0 :\n",
    "    if digit % 2 == 0 :\n",
    "        print(\"digit is even and positive\")\n",
    "    else : \n",
    "        print(\"digit is odd and positive\")       \n",
    "else :\n",
    "    if digit % 2 == 0 :\n",
    "        print(\"digit is even and negative\")\n",
    "    else : \n",
    "        print(\"digit is odd and negative\")\n",
    "\n",
    "\n"
   ]
  },
  {
   "cell_type": "markdown",
   "metadata": {},
   "source": [
    "## Loops\n",
    "The standard ways to do a loop in python involve iterating over some structure like a range or a list.  Here are some typical loop controls:\n",
    "```python\n",
    "    for i in range(10)\n",
    "    for i in range(6, 10)\n",
    "    for i in some_iterable_structure```\n",
    "_Note:_ The loop variable is a local copy, you can change it, but the underlying value in the structure you are iterating over will be unchanged.\n",
    "\n",
    "_Range(a,b)_ gives back values from a up to b (exclusive) that can be iterated over.  If you leave out a, it will default to 0.\n",
    "    \n",
    "A while loop is pretty much what you would expect.  You need a condition and a block of code \n",
    "while boolean_condition :\n",
    "    loop body\n",
    "    \n",
    "\n",
    "   \n"
   ]
  },
  {
   "cell_type": "code",
   "execution_count": null,
   "metadata": {
    "scrolled": false
   },
   "outputs": [],
   "source": [
    "#Python for loops!\n",
    "\n",
    "# Range gives values 0 up to 10 (exclusive)\n",
    "for i in range(10) :\n",
    "    print(i)\n",
    "\n",
    "print(\"-------------------\")\n",
    "# Not that we recommend changing the variable you used to \n",
    "# set up the loop, but Python won't see it as the range is already\n",
    "# fixed.\n",
    "n = 10\n",
    "# This prints the values 7, 8, 9\n",
    "for i in range(7,n) :\n",
    "    n -= 1\n",
    "    print(i)"
   ]
  },
  {
   "cell_type": "code",
   "execution_count": null,
   "metadata": {},
   "outputs": [],
   "source": [
    "# While example\n",
    "# 1 + 1/2 + 1/4 + 1/8 + ...\n",
    "sum = 0\n",
    "term = 1\n",
    "while term > 0.00000001 :\n",
    "    sum += term\n",
    "    term = term / 2\n",
    "print(sum)"
   ]
  },
  {
   "cell_type": "markdown",
   "metadata": {},
   "source": [
    "## I/O with Standard Input and Output\n",
    "\n",
    "We have already seen print(). If you are printing multiple items, you can specify the seperator to use if the default of space is not what you want.\n",
    "\n",
    "The input function will grab the next line from standard input. It always returns a string.  Once you have a string, you can convert it into an appropriate primitive.\n",
    "\n",
    "input()\n",
    "    Grabs the next line from standard input and always returns a string.\n",
    "    \n",
    "Can prompt for input as well.\n",
    "_We "
   ]
  },
  {
   "cell_type": "code",
   "execution_count": null,
   "metadata": {},
   "outputs": [
    {
     "name": "stdout",
     "output_type": "stream",
     "text": [
      "Please type a number followed by enter: 8\n",
      "8\n",
      "18.0\n"
     ]
    }
   ],
   "source": [
    "#IO in Python\n",
    "# The argument to input is a prompt\n",
    "line = input(\"Please type a number followed by enter: \")\n",
    "print(line)\n",
    "\n",
    "# Convert what was typed into a float\n",
    "data = float(line)\n",
    "data += 10\n",
    "print(data)\n",
    "\n",
    "line = input('Please type in a sentence')\n",
    "data = line.split()\n",
    "print(data)"
   ]
  },
  {
   "cell_type": "code",
   "execution_count": null,
   "metadata": {},
   "outputs": [],
   "source": []
  }
 ],
 "metadata": {
  "kernelspec": {
   "display_name": "Python 3",
   "language": "python",
   "name": "python3"
  },
  "language_info": {
   "codemirror_mode": {
    "name": "ipython",
    "version": 3
   },
   "file_extension": ".py",
   "mimetype": "text/x-python",
   "name": "python",
   "nbconvert_exporter": "python",
   "pygments_lexer": "ipython3",
   "version": "3.7.4"
  }
 },
 "nbformat": 4,
 "nbformat_minor": 2
}
